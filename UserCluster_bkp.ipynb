{
 "cells": [
  {
   "cell_type": "code",
   "execution_count": 62,
   "metadata": {
    "collapsed": true
   },
   "outputs": [],
   "source": [
    "import pandas as pd\n",
    "import numpy as np\n",
    "import heapq\n",
    "from sklearn import cluster\n",
    "from sklearn.metrics.pairwise import cosine_distances\n",
    "from sklearn.feature_extraction import DictVectorizer\n",
    "from bottleneck import argpartition, partition\n",
    "\n",
    "from math import ceil\n",
    "from sklearn.neighbors import LSHForest\n"
   ]
  },
  {
   "cell_type": "code",
   "execution_count": 84,
   "metadata": {
    "collapsed": true
   },
   "outputs": [],
   "source": [
    "class Rec():\n",
    "    \n",
    "    def __init__(self):\n",
    "        self.anime_tag_vector = pd.read_csv('anime_tag_vector.csv')\n",
    "        self.anime_id = self.anime_tag_vector['anime_id'].as_matrix().tolist()\n",
    "        self.anime_rating = self.anime_tag_vector['rating']\n",
    "        del self.anime_tag_vector['anime_id']\n",
    "        del self.anime_tag_vector['rating']\n",
    "        self.anime_tag_vector = self.anime_tag_vector.as_matrix()\n",
    "        \n",
    "        # user instance: calculated rating to each tag\n",
    "        \n",
    "        #self.instance = pd.read_csv('user_instances.csv')\n",
    "        #self.instance = self.instance.as_matrix()[1:]\n",
    "        #self.instance = [ row[1:] for row in self.instance ]\n",
    "        \n",
    "        self.instance = pd.read_csv('user_instances.csv')\n",
    "        del self.instance['user_id']\n",
    "        self.instance = self.instance[1:].as_matrix()\n",
    "        \n",
    "        # user actual rating to each watched anime\n",
    "        self.rate = pd.read_csv('rating.csv')\n",
    "        self.rate = self.rate.as_matrix().tolist()\n",
    "        \n",
    "        self.c = 50\n",
    "        self.kmeans = cluster.KMeans(n_clusters=self.c, max_iter=300, init='k-means++',n_init=10, verbose=True, n_jobs=-1).fit(self.instance)\n",
    "        self.clus = self.kmeans.predict(self.instance)\n",
    "        \n",
    "        # user watched list\n",
    "        self.watch = np.array([[] for _ in self.instance])\n",
    "        for r in self.rate:\n",
    "            np.append(self.watch[r[0]-1], r[1])\n",
    "            #self.watch[r[0]-1].append(r[1])\n",
    "\n",
    "        \n",
    "        self.animes = pd.read_csv(\"anime.csv\")\n",
    "        tags = []\n",
    "        for genres in animes[\"genre\"].fillna(\"\"):\n",
    "            for genre in str.split(genres, \", \"):\n",
    "                tags.append(genre)\n",
    "        tags = sorted(list(set(tags))[1:]) # Remove ''\n",
    "        v = DictVectorizer(sparse=\"False\")\n",
    "        \n",
    "        self.genre = v.fit_transform(animes[\"genre\"].fillna(\", \".join(tags)).apply(lambda x: {i: 1 for i in str.split(x, \", \")}))\n",
    "        self.genre = np.array(self.genre.todense())\n",
    "        \n",
    "        self.inverse_anime_id = {}\n",
    "        for index, anime in np.ndenumerate(self.anime_id):\n",
    "            self.inverse_anime_id[anime] = index[0]\n",
    "        \n",
    "        \n",
    "        self.anime_candidates = []\n",
    "        \n",
    "        for i in range(self.c):\n",
    "            users_in_clus = np.where(self.clus==i)[0] # 'user' should be 'anime' instead\n",
    "\n",
    "            #X_train = self.instance[users_in_clus]\n",
    "            #X_test = kmeans.cluster_centers_[i]\n",
    "            lshf = LSHForest(random_state=42)\n",
    "            lshf.fit(self.instance[users_in_clus])  # X_train\n",
    "            LSHForest(min_hash_match=4, n_candidates=50, n_estimators=10,\n",
    "                          n_neighbors=5, radius=1.0, radius_cutoff_ratio=0.9,\n",
    "                          random_state=42)\n",
    "            num_representatives = ceil(len(users_in_clus)/80)\n",
    "            distances, indices = lshf.kneighbors([self.kmeans.cluster_centers_[i]], n_neighbors=num_representatives) #X_test\n",
    "            self.anime_candidates.append(list(set([w for i in indices for w in self.watch[i] if w in self.anime_id])))\n",
    "            ### !!!!list(set([]))\n",
    "\n",
    "            #print(indices)\n",
    "            #print()\n",
    "            \n",
    "    def get_ranked_ids(self, datadata, k):\n",
    "        \n",
    "        # generate user instance from data\n",
    "        avg_rating = 0\n",
    "        watch_times = 0\n",
    "        rating_times = 0\n",
    "        overall_rating = 0\n",
    "        total_rating_times = 0\n",
    "        data = dict(datadata)\n",
    "        for r in data.values():\n",
    "            watch_times += 1\n",
    "            if r != -1:\n",
    "                avg_rating += r\n",
    "                rating_times += 1\n",
    "                overall_rating += r\n",
    "                total_rating_times += 1\n",
    "        \n",
    "        np.seterr(divide='ignore', invalid='ignore')\n",
    "        avg_rating = np.nan_to_num(avg_rating / rating_times)\n",
    "        \n",
    "        avg_overall_rating = overall_rating / total_rating_times\n",
    "        \n",
    "        \n",
    "        \n",
    "        \n",
    "        \n",
    "        ratings = np.zeros(43)\n",
    "        user_tags = np.zeros(43)\n",
    "        for anime_id, r in zip(data.keys(), data.values()):\n",
    "            if anime_id not in self.anime_id:\n",
    "                continue\n",
    "            user_tags += self.genre[self.inverse_anime_id[anime_id]]\n",
    "            if rating_times == 0:\n",
    "                ratings += self.genre[self.inverse_anime_id[anime_id]] * 5\n",
    "            \n",
    "            elif r == -1:\n",
    "                ratings += self.genre[self.inverse_anime_id[anime_id]] * (10 - avg_rating)\n",
    "            else:\n",
    "                ratings += self.genre[self.inverse_anime_id[anime_id]] * r\n",
    "        \n",
    "        #user_instance = np.nan_to_num(ratings / user_tags)\n",
    "        \n",
    "        #ins = user_instance\n",
    "        ins = np.nan_to_num(ratings / user_tags)\n",
    "        \n",
    "    #    watch = []\n",
    "     #   for r in data.keys():\n",
    "     #       watch.append(r)\n",
    "        \n",
    "    #    ins_watch = watch\n",
    "\n",
    "        # predict!!!!\n",
    "        pred = self.kmeans.predict([ins])[0]\n",
    "        #index = [i for i, x in enumerate(self.clus.tolist()) if x == pred]\n",
    "        \n",
    "        #anime_candidates = [w for i in index for w in self.watch[i] if w in self.anime_id] # to set then to list\n",
    "        #anime_candidates = set(anime_candidates) - set(ins_watch)\n",
    "        \n",
    "        #return heapq.nlargest(k,anime_candidates, key=lambda x: self.anime_rating[self.anime_id.index(x)])\n",
    "        \n",
    "        \n",
    "        #####\n",
    "        \n",
    "        argpartition(self.anime_candidates[pred], k)\n",
    "        \n",
    "        p = argpartition(self.anime_candidates, len(self.anime_candidates)-k)[len(self.anime_candidates)-k:]\n",
    "        return sorted(p, key=lambda x: ##[x])[::-1]\n",
    "        \n",
    "        \n",
    "        b = [anime_id.index(a) for a in self.anime_candidates]\n",
    "        r = anime_rating[b]\n",
    "        p = argpartition(r, len(r)-k)[len(r)-k:]\n",
    "        sorted(p, key=lambda x: r[x])[::-1]\n",
    "        #ans = [anime_id[pp] for pp in p[:2]]\n",
    "        #ans\n",
    "        p\n"
   ]
  },
  {
   "cell_type": "code",
   "execution_count": 83,
   "metadata": {},
   "outputs": [],
   "source": [
    "rec = Rec()\n"
   ]
  },
  {
   "cell_type": "code",
   "execution_count": 78,
   "metadata": {
    "collapsed": true
   },
   "outputs": [],
   "source": [
    "rate = pd.read_csv('rating.csv')\n",
    "rate = rate.as_matrix().tolist()"
   ]
  },
  {
   "cell_type": "code",
   "execution_count": 79,
   "metadata": {},
   "outputs": [
    {
     "data": {
      "text/plain": [
       "[(30, 5),\n",
       " (43, 7),\n",
       " (44, 7),\n",
       " (54, -1),\n",
       " (59, 7),\n",
       " (61, 4),\n",
       " (104, 9),\n",
       " (120, 6),\n",
       " (121, 7),\n",
       " (122, 6),\n",
       " (143, 7),\n",
       " (149, 5),\n",
       " (164, 8),\n",
       " (177, 7),\n",
       " (199, 10),\n",
       " (202, 9),\n",
       " (232, 6),\n",
       " (243, 4),\n",
       " (249, 9),\n",
       " (270, -1),\n",
       " (338, 10),\n",
       " (357, 7),\n",
       " (416, 10),\n",
       " (430, 6),\n",
       " (431, 8),\n",
       " (440, 10),\n",
       " (441, 9),\n",
       " (449, 6),\n",
       " (450, 7),\n",
       " (451, 6),\n",
       " (452, 9),\n",
       " (497, 7),\n",
       " (512, 5),\n",
       " (513, 9),\n",
       " (522, 7),\n",
       " (523, 8),\n",
       " (528, 7),\n",
       " (530, 7),\n",
       " (531, 7),\n",
       " (532, 7),\n",
       " (543, 6),\n",
       " (565, 6),\n",
       " (572, 7),\n",
       " (578, 10),\n",
       " (589, 9),\n",
       " (597, 7),\n",
       " (687, 4),\n",
       " (723, 7),\n",
       " (740, 7),\n",
       " (759, 8),\n",
       " (790, 8),\n",
       " (853, 7),\n",
       " (855, 6),\n",
       " (879, 7),\n",
       " (934, 8),\n",
       " (996, 7),\n",
       " (997, 7),\n",
       " (1002, 7),\n",
       " (1032, 8),\n",
       " (1060, 8),\n",
       " (1117, 9),\n",
       " (1118, 8),\n",
       " (1239, 7),\n",
       " (1240, 7),\n",
       " (1709, 6),\n",
       " (1889, 8),\n",
       " (2167, 7),\n",
       " (2313, 10),\n",
       " (2685, 6),\n",
       " (2847, 6),\n",
       " (2890, 6),\n",
       " (3577, 6),\n",
       " (3652, 6),\n",
       " (3702, 9),\n",
       " (4059, 7),\n",
       " (4181, 8),\n",
       " (4896, 6),\n",
       " (4898, 6),\n",
       " (5030, 6),\n",
       " (5060, 7),\n",
       " (5114, 8),\n",
       " (6164, 6),\n",
       " (6280, 7),\n",
       " (6351, 9),\n",
       " (6707, 4),\n",
       " (6747, 7),\n",
       " (6811, 8),\n",
       " (7593, 8),\n",
       " (7674, 7),\n",
       " (9253, 7),\n",
       " (9756, 7),\n",
       " (10030, 7),\n",
       " (11757, 8),\n",
       " (12355, 9),\n",
       " (12365, 7),\n",
       " (13599, 5),\n",
       " (13601, 8),\n",
       " (16498, 9),\n",
       " (18153, 9),\n",
       " (18507, 7),\n",
       " (18679, 9),\n",
       " (20159, 8),\n",
       " (21241, 8),\n",
       " (21339, 8),\n",
       " (21881, 8),\n",
       " (22145, 7),\n",
       " (22265, 9),\n",
       " (23251, 9),\n",
       " (23281, 9),\n",
       " (25015, 8),\n",
       " (28675, 8),\n",
       " (30276, 8)]"
      ]
     },
     "execution_count": 79,
     "metadata": {},
     "output_type": "execute_result"
    }
   ],
   "source": [
    "rr = [r for r in rate if r[0]==11]\n",
    "data = []\n",
    "for rrr in rr:\n",
    "    data.append((rrr[1],rrr[2]))\n",
    "data"
   ]
  },
  {
   "cell_type": "code",
   "execution_count": 81,
   "metadata": {},
   "outputs": [
    {
     "ename": "ValueError",
     "evalue": "operands could not be broadcast together with shapes (43,) (44,) (43,) ",
     "output_type": "error",
     "traceback": [
      "\u001b[0;31m---------------------------------------------------------------------------\u001b[0m",
      "\u001b[0;31mValueError\u001b[0m                                Traceback (most recent call last)",
      "\u001b[0;32m<ipython-input-81-a71655610ecc>\u001b[0m in \u001b[0;36m<module>\u001b[0;34m()\u001b[0m\n\u001b[0;32m----> 1\u001b[0;31m \u001b[0mrec\u001b[0m\u001b[0;34m.\u001b[0m\u001b[0mget_ranked_ids\u001b[0m\u001b[0;34m(\u001b[0m\u001b[0mdata\u001b[0m\u001b[0;34m,\u001b[0m \u001b[0;36m5\u001b[0m\u001b[0;34m)\u001b[0m\u001b[0;34m\u001b[0m\u001b[0m\n\u001b[0m",
      "\u001b[0;32m<ipython-input-76-05894bdb322a>\u001b[0m in \u001b[0;36mget_ranked_ids\u001b[0;34m(self, datadata, k)\u001b[0m\n\u001b[1;32m    103\u001b[0m             \u001b[0;32mif\u001b[0m \u001b[0manime_id\u001b[0m \u001b[0;32mnot\u001b[0m \u001b[0;32min\u001b[0m \u001b[0mself\u001b[0m\u001b[0;34m.\u001b[0m\u001b[0manime_id\u001b[0m\u001b[0;34m:\u001b[0m\u001b[0;34m\u001b[0m\u001b[0m\n\u001b[1;32m    104\u001b[0m                 \u001b[0;32mcontinue\u001b[0m\u001b[0;34m\u001b[0m\u001b[0m\n\u001b[0;32m--> 105\u001b[0;31m             \u001b[0muser_tags\u001b[0m \u001b[0;34m+=\u001b[0m \u001b[0mself\u001b[0m\u001b[0;34m.\u001b[0m\u001b[0mgenre\u001b[0m\u001b[0;34m[\u001b[0m\u001b[0mself\u001b[0m\u001b[0;34m.\u001b[0m\u001b[0minverse_anime_id\u001b[0m\u001b[0;34m[\u001b[0m\u001b[0manime_id\u001b[0m\u001b[0;34m]\u001b[0m\u001b[0;34m]\u001b[0m\u001b[0;34m\u001b[0m\u001b[0m\n\u001b[0m\u001b[1;32m    106\u001b[0m             \u001b[0;32mif\u001b[0m \u001b[0mrating_times\u001b[0m \u001b[0;34m==\u001b[0m \u001b[0;36m0\u001b[0m\u001b[0;34m:\u001b[0m\u001b[0;34m\u001b[0m\u001b[0m\n\u001b[1;32m    107\u001b[0m                 \u001b[0mratings\u001b[0m \u001b[0;34m+=\u001b[0m \u001b[0mself\u001b[0m\u001b[0;34m.\u001b[0m\u001b[0mgenre\u001b[0m\u001b[0;34m[\u001b[0m\u001b[0mself\u001b[0m\u001b[0;34m.\u001b[0m\u001b[0minverse_anime_id\u001b[0m\u001b[0;34m[\u001b[0m\u001b[0manime_id\u001b[0m\u001b[0;34m]\u001b[0m\u001b[0;34m]\u001b[0m \u001b[0;34m*\u001b[0m \u001b[0;36m5\u001b[0m\u001b[0;34m\u001b[0m\u001b[0m\n",
      "\u001b[0;31mValueError\u001b[0m: operands could not be broadcast together with shapes (43,) (44,) (43,) "
     ]
    }
   ],
   "source": [
    "rec.get_ranked_ids(data, 5)"
   ]
  },
  {
   "cell_type": "code",
   "execution_count": 42,
   "metadata": {},
   "outputs": [
    {
     "data": {
      "text/plain": [
       "array([2, 1, 0])"
      ]
     },
     "execution_count": 42,
     "metadata": {},
     "output_type": "execute_result"
    }
   ],
   "source": [
    "anime_tag_vector = pd.read_csv('anime_tag_vector.csv')\n",
    "anime_id = anime_tag_vector['anime_id'].as_matrix().tolist()\n",
    "anime_rating = anime_tag_vector['rating']\n",
    "some_candidates = [32935, 11061, 15417]\n",
    "b = [anime_id.index(a) for a in some_candidates]\n",
    "r = anime_rating[b]\n",
    "p = argpartition(r, 3-2)\n",
    "#ans = [anime_id[pp] for pp in p[:2]]\n",
    "#ans\n",
    "p"
   ]
  },
  {
   "cell_type": "code",
   "execution_count": 18,
   "metadata": {},
   "outputs": [
    {
     "data": {
      "text/plain": [
       "array([ 9.15,  9.13,  9.11])"
      ]
     },
     "execution_count": 18,
     "metadata": {},
     "output_type": "execute_result"
    }
   ],
   "source": [
    "r"
   ]
  },
  {
   "cell_type": "raw",
   "metadata": {},
   "source": [
    "some_candidates[2:]"
   ]
  },
  {
   "cell_type": "code",
   "execution_count": 57,
   "metadata": {},
   "outputs": [
    {
     "ename": "NameError",
     "evalue": "name 'clus' is not defined",
     "output_type": "error",
     "traceback": [
      "\u001b[0;31m---------------------------------------------------------------------------\u001b[0m",
      "\u001b[0;31mNameError\u001b[0m                                 Traceback (most recent call last)",
      "\u001b[0;32m<ipython-input-57-d33f056eb5d4>\u001b[0m in \u001b[0;36m<module>\u001b[0;34m()\u001b[0m\n\u001b[0;32m----> 1\u001b[0;31m \u001b[0mnp\u001b[0m\u001b[0;34m.\u001b[0m\u001b[0mwhere\u001b[0m\u001b[0;34m(\u001b[0m\u001b[0mclus\u001b[0m\u001b[0;34m==\u001b[0m\u001b[0mi\u001b[0m\u001b[0;34m)\u001b[0m\u001b[0;34m[\u001b[0m\u001b[0;36m0\u001b[0m\u001b[0;34m]\u001b[0m\u001b[0;34m\u001b[0m\u001b[0m\n\u001b[0m",
      "\u001b[0;31mNameError\u001b[0m: name 'clus' is not defined"
     ]
    }
   ],
   "source": []
  },
  {
   "cell_type": "code",
   "execution_count": 40,
   "metadata": {},
   "outputs": [
    {
     "data": {
      "text/plain": [
       "[11061, 15417]"
      ]
     },
     "execution_count": 40,
     "metadata": {},
     "output_type": "execute_result"
    }
   ],
   "source": [
    "some_candidates[1:]"
   ]
  },
  {
   "cell_type": "code",
   "execution_count": 50,
   "metadata": {},
   "outputs": [
    {
     "ename": "ValueError",
     "evalue": "`n` (=7) must be between 0 and 2, inclusive.",
     "output_type": "error",
     "traceback": [
      "\u001b[0;31m---------------------------------------------------------------------------\u001b[0m",
      "\u001b[0;31mValueError\u001b[0m                                Traceback (most recent call last)",
      "\u001b[0;32m<ipython-input-50-2cda27828b05>\u001b[0m in \u001b[0;36m<module>\u001b[0;34m()\u001b[0m\n\u001b[1;32m      1\u001b[0m \u001b[0mtest_array\u001b[0m \u001b[0;34m=\u001b[0m \u001b[0;34m[\u001b[0m\u001b[0;36m1\u001b[0m\u001b[0;34m,\u001b[0m\u001b[0;36m5\u001b[0m\u001b[0;34m,\u001b[0m\u001b[0;36m4\u001b[0m\u001b[0;34m]\u001b[0m\u001b[0;34m\u001b[0m\u001b[0m\n\u001b[0;32m----> 2\u001b[0;31m \u001b[0mpartition\u001b[0m\u001b[0;34m(\u001b[0m\u001b[0mtest_array\u001b[0m\u001b[0;34m,\u001b[0m \u001b[0;36m7\u001b[0m\u001b[0;34m)\u001b[0m\u001b[0;34m\u001b[0m\u001b[0m\n\u001b[0m",
      "\u001b[0;31mValueError\u001b[0m: `n` (=7) must be between 0 and 2, inclusive."
     ]
    }
   ],
   "source": [
    "test_array = [1,5,4]\n",
    "partition(test_array, 7)"
   ]
  },
  {
   "cell_type": "code",
   "execution_count": 105,
   "metadata": {},
   "outputs": [
    {
     "ename": "NameError",
     "evalue": "name 'self' is not defined",
     "output_type": "error",
     "traceback": [
      "\u001b[0;31m---------------------------------------------------------------------------\u001b[0m",
      "\u001b[0;31mNameError\u001b[0m                                 Traceback (most recent call last)",
      "\u001b[0;32m<ipython-input-105-e32cd594dc97>\u001b[0m in \u001b[0;36m<module>\u001b[0;34m()\u001b[0m\n\u001b[1;32m      1\u001b[0m \u001b[0mr_\u001b[0m \u001b[0;34m=\u001b[0m \u001b[0mnp\u001b[0m\u001b[0;34m.\u001b[0m\u001b[0mhstack\u001b[0m\u001b[0;34m(\u001b[0m\u001b[0;34m(\u001b[0m\u001b[0manime_id\u001b[0m\u001b[0;34m,\u001b[0m \u001b[0manime_rating\u001b[0m\u001b[0;34m)\u001b[0m\u001b[0;34m)\u001b[0m\u001b[0;34m\u001b[0m\u001b[0m\n\u001b[0;32m----> 2\u001b[0;31m \u001b[0mb\u001b[0m \u001b[0;34m=\u001b[0m \u001b[0;34m[\u001b[0m\u001b[0manime_id\u001b[0m\u001b[0;34m.\u001b[0m\u001b[0mindex\u001b[0m\u001b[0;34m(\u001b[0m\u001b[0ma\u001b[0m\u001b[0;34m)\u001b[0m \u001b[0;32mfor\u001b[0m \u001b[0ma\u001b[0m \u001b[0;32min\u001b[0m \u001b[0mself\u001b[0m\u001b[0;34m.\u001b[0m\u001b[0manime_candidates\u001b[0m\u001b[0;34m]\u001b[0m\u001b[0;34m\u001b[0m\u001b[0m\n\u001b[0m\u001b[1;32m      3\u001b[0m \u001b[0mr\u001b[0m \u001b[0;34m=\u001b[0m \u001b[0manime_rating\u001b[0m\u001b[0;34m[\u001b[0m\u001b[0mb\u001b[0m\u001b[0;34m]\u001b[0m\u001b[0;34m\u001b[0m\u001b[0m\n\u001b[1;32m      4\u001b[0m \u001b[0mp\u001b[0m \u001b[0;34m=\u001b[0m \u001b[0margpartition\u001b[0m\u001b[0;34m(\u001b[0m\u001b[0mr\u001b[0m\u001b[0;34m,\u001b[0m \u001b[0mlen\u001b[0m\u001b[0;34m(\u001b[0m\u001b[0mr\u001b[0m\u001b[0;34m)\u001b[0m\u001b[0;34m-\u001b[0m\u001b[0mk\u001b[0m\u001b[0;34m)\u001b[0m\u001b[0;34m[\u001b[0m\u001b[0mlen\u001b[0m\u001b[0;34m(\u001b[0m\u001b[0mr\u001b[0m\u001b[0;34m)\u001b[0m\u001b[0;34m-\u001b[0m\u001b[0mk\u001b[0m\u001b[0;34m:\u001b[0m\u001b[0;34m]\u001b[0m\u001b[0;34m\u001b[0m\u001b[0m\n\u001b[1;32m      5\u001b[0m \u001b[0msorted\u001b[0m\u001b[0;34m(\u001b[0m\u001b[0mp\u001b[0m\u001b[0;34m,\u001b[0m \u001b[0mkey\u001b[0m\u001b[0;34m=\u001b[0m\u001b[0;32mlambda\u001b[0m \u001b[0mx\u001b[0m\u001b[0;34m:\u001b[0m \u001b[0mr\u001b[0m\u001b[0;34m[\u001b[0m\u001b[0mx\u001b[0m\u001b[0;34m]\u001b[0m\u001b[0;34m)\u001b[0m\u001b[0;34m[\u001b[0m\u001b[0;34m:\u001b[0m\u001b[0;34m:\u001b[0m\u001b[0;34m-\u001b[0m\u001b[0;36m1\u001b[0m\u001b[0;34m]\u001b[0m\u001b[0;34m\u001b[0m\u001b[0m\n",
      "\u001b[0;31mNameError\u001b[0m: name 'self' is not defined"
     ]
    }
   ],
   "source": [
    "r_ = np.hstack((anime_id, anime_rating))\n",
    "b = [anime_id.index(a) for a in self.anime_candidates]\n",
    "r = anime_rating[b]\n",
    "p = argpartition(r, len(r)-k)[len(r)-k:]\n",
    "sorted(p, key=lambda x: r[x])[::-1]\n",
    "#ans = [anime_id[pp] for pp in p[:2]]"
   ]
  },
  {
   "cell_type": "code",
   "execution_count": 106,
   "metadata": {
    "collapsed": true
   },
   "outputs": [],
   "source": [
    "can = [14,11,13]\n",
    "id = [10,11,12,13,14]\n",
    "ra = np.array([5, 8, 1, 2, 9])\n",
    "r_ = np.hstack((id, ra))"
   ]
  },
  {
   "cell_type": "code",
   "execution_count": 92,
   "metadata": {},
   "outputs": [
    {
     "data": {
      "text/plain": [
       "[4, 1, 3]"
      ]
     },
     "execution_count": 92,
     "metadata": {},
     "output_type": "execute_result"
    }
   ],
   "source": [
    "b = [id.index(a) for a in can]\n",
    "b"
   ]
  },
  {
   "cell_type": "code",
   "execution_count": 93,
   "metadata": {},
   "outputs": [
    {
     "data": {
      "text/plain": [
       "array([9, 8, 2])"
      ]
     },
     "execution_count": 93,
     "metadata": {},
     "output_type": "execute_result"
    }
   ],
   "source": [
    "r = ra[b]\n",
    "r"
   ]
  },
  {
   "cell_type": "code",
   "execution_count": 97,
   "metadata": {},
   "outputs": [
    {
     "data": {
      "text/plain": [
       "array([2, 8, 9])"
      ]
     },
     "execution_count": 97,
     "metadata": {},
     "output_type": "execute_result"
    }
   ],
   "source": [
    "k = 2\n",
    "p = partition(r, len(r)-k)\n",
    "p"
   ]
  },
  {
   "cell_type": "code",
   "execution_count": 104,
   "metadata": {},
   "outputs": [
    {
     "ename": "ValueError",
     "evalue": "2 is not in list",
     "output_type": "error",
     "traceback": [
      "\u001b[0;31m---------------------------------------------------------------------------\u001b[0m",
      "\u001b[0;31mValueError\u001b[0m                                Traceback (most recent call last)",
      "\u001b[0;32m<ipython-input-104-16bf6b3f477b>\u001b[0m in \u001b[0;36m<module>\u001b[0;34m()\u001b[0m\n\u001b[0;32m----> 1\u001b[0;31m \u001b[0;34m[\u001b[0m\u001b[0mb\u001b[0m\u001b[0;34m.\u001b[0m\u001b[0mindex\u001b[0m\u001b[0;34m(\u001b[0m\u001b[0mnp\u001b[0m\u001b[0;34m.\u001b[0m\u001b[0mwhere\u001b[0m\u001b[0;34m(\u001b[0m\u001b[0mr\u001b[0m\u001b[0;34m==\u001b[0m\u001b[0mi\u001b[0m\u001b[0;34m)\u001b[0m\u001b[0;34m[\u001b[0m\u001b[0;36m0\u001b[0m\u001b[0;34m]\u001b[0m\u001b[0;34m[\u001b[0m\u001b[0;36m0\u001b[0m\u001b[0;34m]\u001b[0m\u001b[0;34m)\u001b[0m \u001b[0;32mfor\u001b[0m \u001b[0mi\u001b[0m \u001b[0;32min\u001b[0m \u001b[0mp\u001b[0m\u001b[0;34m]\u001b[0m\u001b[0;34m\u001b[0m\u001b[0m\n\u001b[0m",
      "\u001b[0;32m<ipython-input-104-16bf6b3f477b>\u001b[0m in \u001b[0;36m<listcomp>\u001b[0;34m(.0)\u001b[0m\n\u001b[0;32m----> 1\u001b[0;31m \u001b[0;34m[\u001b[0m\u001b[0mb\u001b[0m\u001b[0;34m.\u001b[0m\u001b[0mindex\u001b[0m\u001b[0;34m(\u001b[0m\u001b[0mnp\u001b[0m\u001b[0;34m.\u001b[0m\u001b[0mwhere\u001b[0m\u001b[0;34m(\u001b[0m\u001b[0mr\u001b[0m\u001b[0;34m==\u001b[0m\u001b[0mi\u001b[0m\u001b[0;34m)\u001b[0m\u001b[0;34m[\u001b[0m\u001b[0;36m0\u001b[0m\u001b[0;34m]\u001b[0m\u001b[0;34m[\u001b[0m\u001b[0;36m0\u001b[0m\u001b[0;34m]\u001b[0m\u001b[0;34m)\u001b[0m \u001b[0;32mfor\u001b[0m \u001b[0mi\u001b[0m \u001b[0;32min\u001b[0m \u001b[0mp\u001b[0m\u001b[0;34m]\u001b[0m\u001b[0;34m\u001b[0m\u001b[0m\n\u001b[0m",
      "\u001b[0;31mValueError\u001b[0m: 2 is not in list"
     ]
    }
   ],
   "source": [
    "[ for i in p]"
   ]
  },
  {
   "cell_type": "code",
   "execution_count": null,
   "metadata": {
    "collapsed": true
   },
   "outputs": [],
   "source": []
  }
 ],
 "metadata": {
  "kernelspec": {
   "display_name": "Python 3",
   "language": "python",
   "name": "python3"
  },
  "language_info": {
   "codemirror_mode": {
    "name": "ipython",
    "version": 3
   },
   "file_extension": ".py",
   "mimetype": "text/x-python",
   "name": "python",
   "nbconvert_exporter": "python",
   "pygments_lexer": "ipython3",
   "version": "3.6.1"
  }
 },
 "nbformat": 4,
 "nbformat_minor": 2
}
