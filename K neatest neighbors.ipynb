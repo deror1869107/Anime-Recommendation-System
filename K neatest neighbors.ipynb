{
 "cells": [
  {
   "cell_type": "code",
   "execution_count": 2,
   "metadata": {
    "collapsed": true
   },
   "outputs": [],
   "source": [
    "import numpy as np\n",
    "from pandas import DataFrame\n",
    "import pandas as pd\n",
    "from sklearn import preprocessing\n",
    "from sklearn.neighbors import KDTree\n",
    "## bulid Rec()"
   ]
  },
  {
   "cell_type": "code",
   "execution_count": 12,
   "metadata": {
    "collapsed": true
   },
   "outputs": [],
   "source": [
    "all_tags =[\"Action\",\"Adventure\",\"Cars\",\"Comedy\",\"Dementia\",\"Demons\",\"Drama\",\"Ecchi\",\"Fantasy\",\"Game\",\"Harem\",\"Hentai\",\"Historical\",\"Horror\",\"Josei\",\"Kids\",\"Magic\",\"Martial Arts\",\"Mecha\",\"Military\",\"Music\",\"Mystery\",\"Parody\",\"Police\",\"Psychological\",\"Romance\",\"Samurai\",\"School\",\"Sci-Fi\",\"Seinen\",\"Shoujo\",\"Shoujo Ai\",\"Shounen\",\"Shounen Ai\",\"Slice of Life\",\"Space\",\"Sports\",\"Super Power\",\"Supernatural\",\"Thriller\",\"Vampire\",\"Yaoi\",\"Yuri\"]"
   ]
  },
  {
   "cell_type": "code",
   "execution_count": 51,
   "metadata": {
    "collapsed": true
   },
   "outputs": [],
   "source": [
    "## 0 - base\n",
    "anime_tag_vector_inputfile = pd.read_csv(\"anime_tag_vector.csv\")\n",
    "anime_tag_vector = DataFrame(anime_tag_vector_inputfile, columns=all_tags).values\n",
    "anime_id = DataFrame(anime_tag_vector_inputfile, columns=[\"anime_id\"]).values\n",
    "anime_rating = DataFrame(anime_tag_vector_inputfile, columns=[\"rating\"]).values\n",
    "anime_id = anime_id.reshape(12294)\n",
    "anime_rating = anime_rating.reshape(12294)\n",
    "anime_tag_vector = preprocessing.normalize(anime_tag_vector)"
   ]
  },
  {
   "cell_type": "code",
   "execution_count": 45,
   "metadata": {
    "collapsed": true
   },
   "outputs": [],
   "source": [
    "## 1 - base\n",
    "user_instances_inputfile = pd.read_csv(\"user_instances.csv\")\n",
    "user_instances = DataFrame(user_instances_inputfile, columns=all_tags).values\n",
    "user_instances = preprocessing.normalize(user_instances)"
   ]
  },
  {
   "cell_type": "code",
   "execution_count": 31,
   "metadata": {},
   "outputs": [
    {
     "name": "stdout",
     "output_type": "stream",
     "text": [
      "(73517, 43)\n",
      "(12294, 43)\n"
     ]
    }
   ],
   "source": [
    "print(user_instances.shape)\n",
    "print(anime_tag_vector.shape)"
   ]
  },
  {
   "cell_type": "code",
   "execution_count": 52,
   "metadata": {
    "collapsed": true
   },
   "outputs": [],
   "source": [
    "kdt = KDTree(anime_tag_vector)"
   ]
  },
  {
   "cell_type": "code",
   "execution_count": 4,
   "metadata": {},
   "outputs": [
    {
     "name": "stdout",
     "output_type": "stream",
     "text": [
      "(1, 4)\n"
     ]
    },
    {
     "name": "stderr",
     "output_type": "stream",
     "text": [
      "/home/deror/ml/venv/lib/python3.6/site-packages/sklearn/utils/validation.py:395: DeprecationWarning: Passing 1d arrays as data is deprecated in 0.17 and will raise ValueError in 0.19. Reshape your data either using X.reshape(-1, 1) if your data has a single feature or X.reshape(1, -1) if it contains a single sample.\n",
      "  DeprecationWarning)\n"
     ]
    }
   ],
   "source": [
    "aa = [1, 2, 5, 9]\n",
    "ll = preprocessing.normalize(aa)\n",
    "print(ll.shape)\n"
   ]
  },
  {
   "cell_type": "code",
   "execution_count": null,
   "metadata": {
    "collapsed": true
   },
   "outputs": [],
   "source": []
  }
 ],
 "metadata": {
  "kernelspec": {
   "display_name": "Python 3",
   "language": "python",
   "name": "python3"
  },
  "language_info": {
   "codemirror_mode": {
    "name": "ipython",
    "version": 3
   },
   "file_extension": ".py",
   "mimetype": "text/x-python",
   "name": "python",
   "nbconvert_exporter": "python",
   "pygments_lexer": "ipython3",
   "version": "3.6.1"
  }
 },
 "nbformat": 4,
 "nbformat_minor": 2
}
