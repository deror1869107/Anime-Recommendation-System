{
 "cells": [
  {
   "cell_type": "code",
   "execution_count": 12,
   "metadata": {
    "collapsed": true
   },
   "outputs": [],
   "source": [
    "import numpy as np\n",
    "from pandas import DataFrame\n",
    "import pandas as pd\n",
    "from sklearn import preprocessing\n",
    "from sklearn.neighbors import KDTree"
   ]
  },
  {
   "cell_type": "code",
   "execution_count": 14,
   "metadata": {
    "collapsed": true
   },
   "outputs": [],
   "source": [
    "class Rec():\n",
    "    \n",
    "    def __init__(self):\n",
    "        \n",
    "        ## tag_to_idx\n",
    "        self.all_tags =[\"Action\",\"Adventure\",\"Cars\",\"Comedy\",\"Dementia\",\"Demons\",\"Drama\",\"Ecchi\",\"Fantasy\",\"Game\",\"Harem\",\"Hentai\",\"Historical\",\"Horror\",\"Josei\",\"Kids\",\"Magic\",\"Martial Arts\",\"Mecha\",\"Military\",\"Music\",\"Mystery\",\"Parody\",\"Police\",\"Psychological\",\"Romance\",\"Samurai\",\"School\",\"Sci-Fi\",\"Seinen\",\"Shoujo\",\"Shoujo Ai\",\"Shounen\",\"Shounen Ai\",\"Slice of Life\",\"Space\",\"Sports\",\"Super Power\",\"Supernatural\",\"Thriller\",\"Vampire\",\"Yaoi\",\"Yuri\"]\n",
    "        self.tag_to_idx = {}\n",
    "        for i in range(0, 43):\n",
    "            self.tag_to_idx.update({self.all_tags[i]:i})\n",
    "        \n",
    "        ## 0 - base\n",
    "        anime_tag_vector_inputfile = pd.read_csv(\"anime_tag_vector.csv\")\n",
    "        self.anime_tag_vector = DataFrame(anime_tag_vector_inputfile, columns=self.all_tags).values\n",
    "        self.anime_id = DataFrame(anime_tag_vector_inputfile, columns=[\"anime_id\"]).values\n",
    "        self.anime_id = self.anime_id.reshape(12294)\n",
    "        self.anime_rating = DataFrame(anime_tag_vector_inputfile, columns=[\"rating\"]).values\n",
    "        self.anime_rating = self.anime_rating.reshape(12294)\n",
    "        self.normalize_anime_tag_vector = preprocessing.normalize(self.anime_tag_vector)\n",
    "\n",
    "        ## anime_id_to_idx\n",
    "        self.anime_id_to_idx = {}\n",
    "        for i in range(0, 12294):\n",
    "            self.anime_id_to_idx.update({self.anime_id[i]:i})\n",
    "        \n",
    "\n",
    "    \n",
    "    def avg_rating(self, train):\n",
    "        \n",
    "        rating_times = 0\n",
    "        \n",
    "        ratings = 0\n",
    "        \n",
    "        for r in train:\n",
    "            anime_id = r[0]\n",
    "            rating = r[1]\n",
    "            rating_times += 1\n",
    "            \n",
    "            if rating != -1:\n",
    "                ratings += rating\n",
    "                \n",
    "\n",
    "        np.seterr(divide='ignore', invalid='ignore')        \n",
    "        \n",
    "        ratings = np.nan_to_num(ratings / rating_times)\n",
    "        \n",
    "        return ratings\n",
    "        \n",
    "    def get_ranked_ids(self, train, kin):\n",
    "        \n",
    "        rating_times = 0\n",
    "        rating_appeartime = np.zeros(43)\n",
    "        ratings = np.zeros(43)\n",
    "        avg_rate = self.avg_rating(train)\n",
    "        \n",
    "        for obj in train:\n",
    "            \n",
    "            anime_id = obj[0]\n",
    "            r = obj[1]\n",
    "        \n",
    "            if r == -1:\n",
    "                ratings += self.anime_tag_vector[self.anime_id_to_idx[anime_id]] * (10 - avg_rate)\n",
    "            else:\n",
    "                ratings += self.anime_tag_vector[self.anime_id_to_idx[anime_id]] * r\n",
    "                \n",
    "            rating_appeartime += self.anime_tag_vector[self.anime_id_to_idx[anime_id]]\n",
    "        \n",
    "        \n",
    "        np.seterr(divide='ignore', invalid='ignore')        \n",
    "        \n",
    "        ratings = np.nan_to_num(ratings / rating_appeartime)\n",
    "       \n",
    "    \n",
    "        normalize_ratings = preprocessing.normalize(ratings)\n",
    "        \n",
    "        dist, idx = self.kdt.query(normalize_ratings, k = kin)\n",
    "        idx = idx[0]\n",
    "        \n",
    "        OverRatingXAnime_id = []\n",
    "        \n",
    "        for i in idx:\n",
    "            OverRatingXAnime_id.append((self.anime_rating[i], self.anime_id[i]))\n",
    "        OD = sorted(OverRatingXAnime_id, key=lambda x: -x[0])\n",
    "        \n",
    "        ans = []\n",
    "        for obj in OD:\n",
    "            ans.append(obj[1])\n",
    "        \n",
    "        return ans\n",
    "        "
   ]
  },
  {
   "cell_type": "code",
   "execution_count": null,
   "metadata": {
    "collapsed": true
   },
   "outputs": [],
   "source": []
  }
 ],
 "metadata": {
  "kernelspec": {
   "display_name": "Python 3",
   "language": "python",
   "name": "python3"
  },
  "language_info": {
   "codemirror_mode": {
    "name": "ipython",
    "version": 3
   },
   "file_extension": ".py",
   "mimetype": "text/x-python",
   "name": "python",
   "nbconvert_exporter": "python",
   "pygments_lexer": "ipython3",
   "version": "3.6.1"
  }
 },
 "nbformat": 4,
 "nbformat_minor": 2
}
